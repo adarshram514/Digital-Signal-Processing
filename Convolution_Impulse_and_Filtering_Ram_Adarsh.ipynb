{
 "cells": [
  {
   "cell_type": "markdown",
   "metadata": {},
   "source": [
    "# 0. Convolution and Impulse Response\n",
    "Convolution is an important operation, particularly for filtering a signal.\n",
    "\n",
    "Impulse response is the output of a filter when given a specific input (e.g. the \"impulse function\" which is just a single value surrounded by zeroes)."
   ]
  },
  {
   "cell_type": "markdown",
   "metadata": {},
   "source": [
    "## 0.a Imports"
   ]
  },
  {
   "cell_type": "code",
   "execution_count": 1,
   "metadata": {},
   "outputs": [],
   "source": [
    "import sys\n",
    "import scipy as sp\n",
    "import numpy as np\n",
    "import matplotlib as mpl\n",
    "from scipy.fftpack import fft, fftfreq\n",
    "from scipy import signal\n",
    "\n",
    "import matplotlib.pyplot as plt\n",
    "plt.style.use('classic')"
   ]
  },
  {
   "cell_type": "markdown",
   "metadata": {},
   "source": [
    "## 0.b Check Versions, etc"
   ]
  },
  {
   "cell_type": "code",
   "execution_count": 2,
   "metadata": {},
   "outputs": [
    {
     "name": "stdout",
     "output_type": "stream",
     "text": [
      "Python: \t 3.11\n",
      "Matplot:\t 3.8.3\n",
      "Numpy:  \t 1.26.4\n",
      "SciPy:  \t 1.11.1\n"
     ]
    }
   ],
   "source": [
    "print('Python: \\t{:2d}.{:1d}'\n",
    "      .format(sys.version_info[0], sys.version_info[1]))\n",
    "print('Matplot:\\t',mpl.__version__)\n",
    "print('Numpy:  \\t',np.__version__)\n",
    "print('SciPy:  \\t',sp.__version__)"
   ]
  },
  {
   "cell_type": "markdown",
   "metadata": {},
   "source": [
    "## 0.c Define some useful functions"
   ]
  },
  {
   "cell_type": "code",
   "execution_count": 3,
   "metadata": {},
   "outputs": [],
   "source": [
    "def print_polezero(pp, zz):\n",
    "\n",
    "    print('Zeroes:')\n",
    "    for x in zz: print('\\t{num.real:+0.04f} {num.imag:+0.04f}j'.format(num=x))\n",
    "    \n",
    "    print('Poles:') \n",
    "    for x in pp: print('\\t{num.real:+0.04f} {num.imag:+0.04f}j'.format(num=x))"
   ]
  },
  {
   "cell_type": "code",
   "execution_count": 4,
   "metadata": {},
   "outputs": [],
   "source": [
    "def print_numden(nn, dd):\n",
    "\n",
    "    print('Numerator:')\n",
    "    for x in nn: print('\\t{num.real:+0.04f}'.format(num=x))\n",
    "    \n",
    "    print('Denominator:') \n",
    "    for x in dd: print('\\t{num.real:+0.04f}'.format(num=x))"
   ]
  },
  {
   "cell_type": "code",
   "execution_count": 5,
   "metadata": {},
   "outputs": [],
   "source": [
    "def plot_ImpulseResponse(numerator):\n",
    "    \n",
    "    fig, ax = plt.subplots(nrows=1, ncols=1)\n",
    "\n",
    "    ax.set_title('Impulse Response (numerator)', fontsize=10)\n",
    "    ax.set_axisbelow(True)\n",
    "    ax.minorticks_on()\n",
    "\n",
    "    ax.grid(which='major', linestyle='-',linewidth='0.5', color='red')\n",
    "    ax.grid(which='minor', linestyle=':',linewidth='0.5', color='gray')\n",
    "    ax.tick_params(which='both', top='off', bottom='off', left='off', right='off')\n",
    "        \n",
    "    mm = 1.1 * max(numerator)\n",
    "    mn = min(1.1 * min(numerator), -0.1)\n",
    "    ax.set_ylim(mn, mm)\n",
    "    ax.set_xlim(-1,len(numerator))\n",
    "\n",
    "    ax.set_xlabel('impulse response (numerator, samples)')\n",
    "    ax.set_ylabel('amplitude')\n",
    "    ax.axhline(linewidth=2, color='black')\n",
    "    ax.axvline(linewidth=2, color='black')\n",
    "\n",
    "    time = np.arange(0,len(numerator))\n",
    "    marker, stem, base = ax.stem(time, numerator)\n",
    "    stem.set_linewidth(2)\n",
    "\n",
    "    plt.show(block=False)\n",
    "    \n",
    "    return"
   ]
  },
  {
   "cell_type": "code",
   "execution_count": 6,
   "metadata": {},
   "outputs": [],
   "source": [
    "def plot_PoleZero(zeroes, poles):\n",
    "    \n",
    "    fig, ax = plt.subplots(nrows=1, ncols=1)\n",
    "\n",
    "    ax.set_title('Unit Circle (z-plane)', fontsize=10)\n",
    "    ax.minorticks_on()\n",
    "\n",
    "    ax.grid(which='major', linestyle='-',linewidth='0.5', color='red')\n",
    "    ax.grid(which='minor', linestyle=':',linewidth='0.5', color='gray')\n",
    "    ax.tick_params(which='both',top='off', bottom='off', left='off', right='off')\n",
    "\n",
    "    theta = np.linspace(-np.pi,np.pi,201)\n",
    "    ax.plot(np.cos(theta), np.sin(theta), color='gray')\n",
    "\n",
    "    ax.scatter(np.real(zeroes), np.imag(zeroes),facecolors='none', edgecolors='blue',marker='o')\n",
    "    ax.scatter(np.real(poles), np.imag(poles), facecolors='red', marker='x')\n",
    "\n",
    "    ax.axhline(linewidth=2, color='black')\n",
    "    ax.axvline(linewidth=2, color='black')\n",
    "\n",
    "    ax.set_ylabel('Im{z}')\n",
    "    ax.set_xlabel('Re{z}')\n",
    "    ax.set_aspect('equal')\n",
    "\n",
    "    plt.show(block=False)\n",
    "\n",
    "    return"
   ]
  },
  {
   "cell_type": "code",
   "execution_count": 7,
   "metadata": {},
   "outputs": [],
   "source": [
    "def plot_FreqResponse(zeroes, poles, srate):\n",
    "\n",
    "    # The Python SciPy library function \"freq_zpk\" evaluates the set of (pole,zero) values via the DTFT\n",
    "    ww, hh = signal.freqz_zpk(zeroes, poles, 1, 512, False, srate)\n",
    "    \n",
    "    fig, ax = plt.subplots(nrows=1, ncols=1)\n",
    "\n",
    "    ax.set_title('Frequency Response (DTFT)', fontsize=10)\n",
    "    ax.minorticks_on()\n",
    "    ax.grid(which='major', linestyle='-', linewidth='0.5', color='red')\n",
    "    ax.grid(which='minor', linestyle=':',linewidth='0.5', color='gray')\n",
    "    ax.tick_params(which='both', top='off', bottom='off', left='off', right='off')\n",
    "    \n",
    "    ax.plot(ww,20*np.log10(abs(hh)),'b')\n",
    "    \n",
    "    ax.set_ylabel('Amplitude (dB)', color='b')\n",
    "    ax.set_xlabel('Frequency (Hz)')\n",
    "    \n",
    "    ax.axhline(linewidth=2, color='black')\n",
    "    ax.axvline(linewidth=2, color='black')\n",
    "    \n",
    "    ax2 = ax.twinx()\n",
    "    angles = np.unwrap(np.angle(hh))\n",
    "    ax2.plot(ww,angles,'g')\n",
    "    ax2.set_ylabel('Angle (rad)', color='g')\n",
    "\n",
    "    plt.axis('tight')\n",
    "    plt.show(block=False)\n",
    "\n",
    "    return"
   ]
  },
  {
   "cell_type": "code",
   "execution_count": 8,
   "metadata": {},
   "outputs": [],
   "source": [
    "def plot_Convolution(sig, filt):\n",
    "\n",
    "    # The SciPy signal library \"convolve\" function performs a direct convolution\n",
    "    conv = sp.signal.convolve(sig,filt,'full','direct')\n",
    "    \n",
    "    fig, ax = plt.subplots(nrows=1, ncols=1)\n",
    "\n",
    "    ax.set_title('Convolution Result', fontsize=10)\n",
    "    ax.minorticks_on()\n",
    "    ax.grid(which='major', linestyle='-', linewidth='0.5', color='red')\n",
    "    ax.grid(which='minor', linestyle=':',linewidth='0.5', color='gray')\n",
    "    ax.tick_params(which='both', top='off', bottom='off', left='off', right='off')\n",
    "    \n",
    "    ax.set_ylabel('Amplitude')\n",
    "    ax.set_xlabel('Samples [n]')\n",
    "    \n",
    "    ax.axhline(linewidth=2, color='black')\n",
    "    ax.axvline(linewidth=2, color='black')\n",
    "    \n",
    "    time = np.arange(0,len(conv))\n",
    "    marker, stem, base = ax.stem(time, conv)\n",
    "    stem.set_linewidth(2)\n",
    "    \n",
    "    mm = 1.1 * max(conv)\n",
    "    mn = 1.1 * min(min(conv),-0.1)\n",
    "    ax.set_ylim(mn, mm)\n",
    "    ax.set_xlim(-1, len(conv))\n",
    "    \n",
    "    annot = 'Length = {}'.format(len(conv))\n",
    "    ax.annotate(annot, (0.05,0.95), xycoords='axes fraction')\n",
    "\n",
    "    plt.show(block=False)\n",
    "\n",
    "    return"
   ]
  },
  {
   "cell_type": "markdown",
   "metadata": {},
   "source": [
    "# 1. Read files of pole/zero pairs"
   ]
  },
  {
   "cell_type": "code",
   "execution_count": 9,
   "metadata": {},
   "outputs": [
    {
     "ename": "FileNotFoundError",
     "evalue": "simple.zeroes not found.",
     "output_type": "error",
     "traceback": [
      "\u001b[1;31m---------------------------------------------------------------------------\u001b[0m",
      "\u001b[1;31mFileNotFoundError\u001b[0m                         Traceback (most recent call last)",
      "Cell \u001b[1;32mIn[9], line 2\u001b[0m\n\u001b[0;32m      1\u001b[0m zfile \u001b[38;5;241m=\u001b[39m \u001b[38;5;124m'\u001b[39m\u001b[38;5;124msimple.zeroes\u001b[39m\u001b[38;5;124m'\u001b[39m\n\u001b[1;32m----> 2\u001b[0m zeroes \u001b[38;5;241m=\u001b[39m \u001b[43mnp\u001b[49m\u001b[38;5;241;43m.\u001b[39;49m\u001b[43mloadtxt\u001b[49m\u001b[43m(\u001b[49m\u001b[43mzfile\u001b[49m\u001b[43m,\u001b[49m\u001b[43m \u001b[49m\u001b[43mcomments\u001b[49m\u001b[38;5;241;43m=\u001b[39;49m\u001b[38;5;124;43m'\u001b[39;49m\u001b[38;5;124;43m#\u001b[39;49m\u001b[38;5;124;43m'\u001b[39;49m\u001b[43m,\u001b[49m\u001b[43m \u001b[49m\u001b[43mdelimiter\u001b[49m\u001b[38;5;241;43m=\u001b[39;49m\u001b[38;5;124;43m'\u001b[39;49m\u001b[38;5;124;43m,\u001b[39;49m\u001b[38;5;124;43m'\u001b[39;49m\u001b[43m,\u001b[49m\u001b[43m \u001b[49m\u001b[43mdtype\u001b[49m\u001b[38;5;241;43m=\u001b[39;49m\u001b[38;5;28;43mcomplex\u001b[39;49m\u001b[43m,\u001b[49m\u001b[43m \u001b[49m\u001b[43munpack\u001b[49m\u001b[38;5;241;43m=\u001b[39;49m\u001b[38;5;28;43;01mFalse\u001b[39;49;00m\u001b[43m)\u001b[49m\n\u001b[0;32m      4\u001b[0m pfile \u001b[38;5;241m=\u001b[39m \u001b[38;5;124m'\u001b[39m\u001b[38;5;124mnone.poles\u001b[39m\u001b[38;5;124m'\u001b[39m\n\u001b[0;32m      5\u001b[0m poles \u001b[38;5;241m=\u001b[39m np\u001b[38;5;241m.\u001b[39mloadtxt(pfile, comments\u001b[38;5;241m=\u001b[39m\u001b[38;5;124m'\u001b[39m\u001b[38;5;124m#\u001b[39m\u001b[38;5;124m'\u001b[39m, delimiter\u001b[38;5;241m=\u001b[39m\u001b[38;5;124m'\u001b[39m\u001b[38;5;124m,\u001b[39m\u001b[38;5;124m'\u001b[39m, dtype\u001b[38;5;241m=\u001b[39m\u001b[38;5;28mcomplex\u001b[39m, unpack\u001b[38;5;241m=\u001b[39m\u001b[38;5;28;01mFalse\u001b[39;00m)\n",
      "File \u001b[1;32m~\\anaconda3\\Lib\\site-packages\\numpy\\lib\\npyio.py:1373\u001b[0m, in \u001b[0;36mloadtxt\u001b[1;34m(fname, dtype, comments, delimiter, converters, skiprows, usecols, unpack, ndmin, encoding, max_rows, quotechar, like)\u001b[0m\n\u001b[0;32m   1370\u001b[0m \u001b[38;5;28;01mif\u001b[39;00m \u001b[38;5;28misinstance\u001b[39m(delimiter, \u001b[38;5;28mbytes\u001b[39m):\n\u001b[0;32m   1371\u001b[0m     delimiter \u001b[38;5;241m=\u001b[39m delimiter\u001b[38;5;241m.\u001b[39mdecode(\u001b[38;5;124m'\u001b[39m\u001b[38;5;124mlatin1\u001b[39m\u001b[38;5;124m'\u001b[39m)\n\u001b[1;32m-> 1373\u001b[0m arr \u001b[38;5;241m=\u001b[39m \u001b[43m_read\u001b[49m\u001b[43m(\u001b[49m\u001b[43mfname\u001b[49m\u001b[43m,\u001b[49m\u001b[43m \u001b[49m\u001b[43mdtype\u001b[49m\u001b[38;5;241;43m=\u001b[39;49m\u001b[43mdtype\u001b[49m\u001b[43m,\u001b[49m\u001b[43m \u001b[49m\u001b[43mcomment\u001b[49m\u001b[38;5;241;43m=\u001b[39;49m\u001b[43mcomment\u001b[49m\u001b[43m,\u001b[49m\u001b[43m \u001b[49m\u001b[43mdelimiter\u001b[49m\u001b[38;5;241;43m=\u001b[39;49m\u001b[43mdelimiter\u001b[49m\u001b[43m,\u001b[49m\n\u001b[0;32m   1374\u001b[0m \u001b[43m            \u001b[49m\u001b[43mconverters\u001b[49m\u001b[38;5;241;43m=\u001b[39;49m\u001b[43mconverters\u001b[49m\u001b[43m,\u001b[49m\u001b[43m \u001b[49m\u001b[43mskiplines\u001b[49m\u001b[38;5;241;43m=\u001b[39;49m\u001b[43mskiprows\u001b[49m\u001b[43m,\u001b[49m\u001b[43m \u001b[49m\u001b[43musecols\u001b[49m\u001b[38;5;241;43m=\u001b[39;49m\u001b[43musecols\u001b[49m\u001b[43m,\u001b[49m\n\u001b[0;32m   1375\u001b[0m \u001b[43m            \u001b[49m\u001b[43munpack\u001b[49m\u001b[38;5;241;43m=\u001b[39;49m\u001b[43munpack\u001b[49m\u001b[43m,\u001b[49m\u001b[43m \u001b[49m\u001b[43mndmin\u001b[49m\u001b[38;5;241;43m=\u001b[39;49m\u001b[43mndmin\u001b[49m\u001b[43m,\u001b[49m\u001b[43m \u001b[49m\u001b[43mencoding\u001b[49m\u001b[38;5;241;43m=\u001b[39;49m\u001b[43mencoding\u001b[49m\u001b[43m,\u001b[49m\n\u001b[0;32m   1376\u001b[0m \u001b[43m            \u001b[49m\u001b[43mmax_rows\u001b[49m\u001b[38;5;241;43m=\u001b[39;49m\u001b[43mmax_rows\u001b[49m\u001b[43m,\u001b[49m\u001b[43m \u001b[49m\u001b[43mquote\u001b[49m\u001b[38;5;241;43m=\u001b[39;49m\u001b[43mquotechar\u001b[49m\u001b[43m)\u001b[49m\n\u001b[0;32m   1378\u001b[0m \u001b[38;5;28;01mreturn\u001b[39;00m arr\n",
      "File \u001b[1;32m~\\anaconda3\\Lib\\site-packages\\numpy\\lib\\npyio.py:992\u001b[0m, in \u001b[0;36m_read\u001b[1;34m(fname, delimiter, comment, quote, imaginary_unit, usecols, skiplines, max_rows, converters, ndmin, unpack, dtype, encoding)\u001b[0m\n\u001b[0;32m    990\u001b[0m     fname \u001b[38;5;241m=\u001b[39m os\u001b[38;5;241m.\u001b[39mfspath(fname)\n\u001b[0;32m    991\u001b[0m \u001b[38;5;28;01mif\u001b[39;00m \u001b[38;5;28misinstance\u001b[39m(fname, \u001b[38;5;28mstr\u001b[39m):\n\u001b[1;32m--> 992\u001b[0m     fh \u001b[38;5;241m=\u001b[39m \u001b[43mnp\u001b[49m\u001b[38;5;241;43m.\u001b[39;49m\u001b[43mlib\u001b[49m\u001b[38;5;241;43m.\u001b[39;49m\u001b[43m_datasource\u001b[49m\u001b[38;5;241;43m.\u001b[39;49m\u001b[43mopen\u001b[49m\u001b[43m(\u001b[49m\u001b[43mfname\u001b[49m\u001b[43m,\u001b[49m\u001b[43m \u001b[49m\u001b[38;5;124;43m'\u001b[39;49m\u001b[38;5;124;43mrt\u001b[39;49m\u001b[38;5;124;43m'\u001b[39;49m\u001b[43m,\u001b[49m\u001b[43m \u001b[49m\u001b[43mencoding\u001b[49m\u001b[38;5;241;43m=\u001b[39;49m\u001b[43mencoding\u001b[49m\u001b[43m)\u001b[49m\n\u001b[0;32m    993\u001b[0m     \u001b[38;5;28;01mif\u001b[39;00m encoding \u001b[38;5;129;01mis\u001b[39;00m \u001b[38;5;28;01mNone\u001b[39;00m:\n\u001b[0;32m    994\u001b[0m         encoding \u001b[38;5;241m=\u001b[39m \u001b[38;5;28mgetattr\u001b[39m(fh, \u001b[38;5;124m'\u001b[39m\u001b[38;5;124mencoding\u001b[39m\u001b[38;5;124m'\u001b[39m, \u001b[38;5;124m'\u001b[39m\u001b[38;5;124mlatin1\u001b[39m\u001b[38;5;124m'\u001b[39m)\n",
      "File \u001b[1;32m~\\anaconda3\\Lib\\site-packages\\numpy\\lib\\_datasource.py:193\u001b[0m, in \u001b[0;36mopen\u001b[1;34m(path, mode, destpath, encoding, newline)\u001b[0m\n\u001b[0;32m    156\u001b[0m \u001b[38;5;250m\u001b[39m\u001b[38;5;124;03m\"\"\"\u001b[39;00m\n\u001b[0;32m    157\u001b[0m \u001b[38;5;124;03mOpen `path` with `mode` and return the file object.\u001b[39;00m\n\u001b[0;32m    158\u001b[0m \n\u001b[1;32m   (...)\u001b[0m\n\u001b[0;32m    189\u001b[0m \n\u001b[0;32m    190\u001b[0m \u001b[38;5;124;03m\"\"\"\u001b[39;00m\n\u001b[0;32m    192\u001b[0m ds \u001b[38;5;241m=\u001b[39m DataSource(destpath)\n\u001b[1;32m--> 193\u001b[0m \u001b[38;5;28;01mreturn\u001b[39;00m \u001b[43mds\u001b[49m\u001b[38;5;241;43m.\u001b[39;49m\u001b[43mopen\u001b[49m\u001b[43m(\u001b[49m\u001b[43mpath\u001b[49m\u001b[43m,\u001b[49m\u001b[43m \u001b[49m\u001b[43mmode\u001b[49m\u001b[43m,\u001b[49m\u001b[43m \u001b[49m\u001b[43mencoding\u001b[49m\u001b[38;5;241;43m=\u001b[39;49m\u001b[43mencoding\u001b[49m\u001b[43m,\u001b[49m\u001b[43m \u001b[49m\u001b[43mnewline\u001b[49m\u001b[38;5;241;43m=\u001b[39;49m\u001b[43mnewline\u001b[49m\u001b[43m)\u001b[49m\n",
      "File \u001b[1;32m~\\anaconda3\\Lib\\site-packages\\numpy\\lib\\_datasource.py:533\u001b[0m, in \u001b[0;36mDataSource.open\u001b[1;34m(self, path, mode, encoding, newline)\u001b[0m\n\u001b[0;32m    530\u001b[0m     \u001b[38;5;28;01mreturn\u001b[39;00m _file_openers[ext](found, mode\u001b[38;5;241m=\u001b[39mmode,\n\u001b[0;32m    531\u001b[0m                               encoding\u001b[38;5;241m=\u001b[39mencoding, newline\u001b[38;5;241m=\u001b[39mnewline)\n\u001b[0;32m    532\u001b[0m \u001b[38;5;28;01melse\u001b[39;00m:\n\u001b[1;32m--> 533\u001b[0m     \u001b[38;5;28;01mraise\u001b[39;00m \u001b[38;5;167;01mFileNotFoundError\u001b[39;00m(\u001b[38;5;124mf\u001b[39m\u001b[38;5;124m\"\u001b[39m\u001b[38;5;132;01m{\u001b[39;00mpath\u001b[38;5;132;01m}\u001b[39;00m\u001b[38;5;124m not found.\u001b[39m\u001b[38;5;124m\"\u001b[39m)\n",
      "\u001b[1;31mFileNotFoundError\u001b[0m: simple.zeroes not found."
     ]
    }
   ],
   "source": [
    "zfile = 'simple.zeroes'\n",
    "zeroes = np.loadtxt(zfile, comments='#', delimiter=',', dtype=complex, unpack=False)\n",
    "\n",
    "pfile = 'none.poles'\n",
    "poles = np.loadtxt(pfile, comments='#', delimiter=',', dtype=complex, unpack=False)\n",
    "poles = [poles]"
   ]
  },
  {
   "cell_type": "code",
   "execution_count": null,
   "metadata": {},
   "outputs": [],
   "source": [
    "numerator, denominator = signal.zpk2tf(zeroes, poles, 1)"
   ]
  },
  {
   "cell_type": "code",
   "execution_count": null,
   "metadata": {},
   "outputs": [],
   "source": [
    "print_polezero(poles, zeroes)"
   ]
  },
  {
   "cell_type": "code",
   "execution_count": null,
   "metadata": {},
   "outputs": [],
   "source": [
    "print_numden(numerator, denominator)"
   ]
  },
  {
   "cell_type": "markdown",
   "metadata": {},
   "source": [
    "# 2. Make useful plots of the files\n",
    "This is exactly as we've done before.  \n",
    "\n",
    "Note the differences between the \"_plot_ImpulseResponse_\" function here and the \"_plot_Convolution_\" function used subsequently."
   ]
  },
  {
   "cell_type": "code",
   "execution_count": 10,
   "metadata": {},
   "outputs": [
    {
     "ename": "NameError",
     "evalue": "name 'numerator' is not defined",
     "output_type": "error",
     "traceback": [
      "\u001b[1;31m---------------------------------------------------------------------------\u001b[0m",
      "\u001b[1;31mNameError\u001b[0m                                 Traceback (most recent call last)",
      "Cell \u001b[1;32mIn[10], line 1\u001b[0m\n\u001b[1;32m----> 1\u001b[0m plot_ImpulseResponse(\u001b[43mnumerator\u001b[49m)\n\u001b[0;32m      2\u001b[0m plot_PoleZero(zeroes, poles)\n\u001b[0;32m      3\u001b[0m plot_FreqResponse(zeroes, poles, \u001b[38;5;241m2000\u001b[39m)\n",
      "\u001b[1;31mNameError\u001b[0m: name 'numerator' is not defined"
     ]
    }
   ],
   "source": [
    "plot_ImpulseResponse(numerator)\n",
    "plot_PoleZero(zeroes, poles)\n",
    "plot_FreqResponse(zeroes, poles, 2000)"
   ]
  },
  {
   "cell_type": "markdown",
   "metadata": {},
   "source": [
    "# 3. Impulse Response\n",
    "Here, we're constructing an approximation of an \"impulse function\" by setting a single value of the input signal to unity, e.g. signal={... 0,0,0,1,0,0,0 ...} or signal=\\[1\\]\n",
    "\n",
    "Note that you can include the additional zeroes surrounding the single \"one\" value and the length of the convolved sequence will grow as a result, though it will be filled with zeroes.  It may be useful for you to try this and see what happens."
   ]
  },
  {
   "cell_type": "code",
   "execution_count": 11,
   "metadata": {},
   "outputs": [
    {
     "ename": "NameError",
     "evalue": "name 'numerator' is not defined",
     "output_type": "error",
     "traceback": [
      "\u001b[1;31m---------------------------------------------------------------------------\u001b[0m",
      "\u001b[1;31mNameError\u001b[0m                                 Traceback (most recent call last)",
      "Cell \u001b[1;32mIn[11], line 2\u001b[0m\n\u001b[0;32m      1\u001b[0m signal \u001b[38;5;241m=\u001b[39m [\u001b[38;5;241m1\u001b[39m]\n\u001b[1;32m----> 2\u001b[0m plot_Convolution(signal,\u001b[43mnumerator\u001b[49m)\n",
      "\u001b[1;31mNameError\u001b[0m: name 'numerator' is not defined"
     ]
    }
   ],
   "source": [
    "signal = [1]\n",
    "plot_Convolution(signal,numerator)"
   ]
  },
  {
   "cell_type": "markdown",
   "metadata": {},
   "source": [
    "# 4. Convolution\n",
    "In class, we discussed the \"convolution\" operation (\"$\\ast$\") in terms of the Z-transform and a transfer function, like this:\n",
    "\n",
    "$$y[n] = h[n] \\ast x[n] = \\sum_{k}h[k]x[n-k]$$\n",
    "Where\n",
    "$$H(z) = \\sum_{k}h[k]z^{-k} = Z\\left\\{h[k]\\right\\}$$\n",
    "So that\n",
    "$$Y(z) = H(z)X(z)$$\n",
    "\n",
    "Here, the example uses the same signal and filter values as the included \"_simple-convolution_\" spreadsheet.  Play around with these values in both spreadsheet and Jupyter Notebook to see that they work the same way."
   ]
  },
  {
   "cell_type": "code",
   "execution_count": null,
   "metadata": {
    "scrolled": false
   },
   "outputs": [],
   "source": [
    "signal = [1,2,1,2,1]\n",
    "filt = [2,1,1]\n",
    "\n",
    "plot_Convolution(signal,filt)"
   ]
  },
  {
   "cell_type": "markdown",
   "metadata": {},
   "source": [
    "# Questions\n",
    "\n",
    "### 1. Convolution\n",
    "* Create a simple \"filter\" (3-5 samples long) and a \"signal\" (8-10 samples long) and convolve them together\n",
    "    * Use the spreadsheet approach as well as the Python approach to show that your result is correct\n",
    "    * Why is the resulting convolved output __longer__ (number of samples) than the original signal?\n",
    "    * How are the length of the \"filter\" and \"signal\" related to the length of the convolved output?\n",
    "* Plot all of these results appropriately\n",
    "\n",
    "### 2. Spectrum\n",
    "* What is your \"filter\" doing to the spectrum of your \"signal\"?\n",
    "    * What type of spectral response does your \"filter\" have?  (lowpass, highpass, etc.)\n",
    "    * Use the \"_plot_FrequencyResponse_\" function to determine it\n",
    "* Plot all of these results appropriately\n",
    "\n",
    "### 3. Impulse Response, etc.\n",
    "* Find the impulse response of your \"filter\"\n",
    "    * What is the length of the impulse response? (how many samples)\n",
    "    * Calculate this by-hand as well as by-Python\n",
    "* Convolve your filter with the \"unit step\" sequence (basically a very long impulse)\n",
    "    * What happens to the output?\n",
    "* Plot all of these results appropriately\n",
    "\n",
    "### 4. Design a Filter\n",
    "* Design a simple lowpass filter with the following constraints:\n",
    "    * Sampling rate: 3000 Hz\n",
    "    * Passband: 0-600Hz with < 3 dB ripple\n",
    "    * Stopband: 900-3000 Hz with > 40 dB suppression\n",
    "* Use the website mentioned in class (http://t-filter.engineerjs.com/) to get the coefficients\n",
    "    * Use the \"Finite Impulse Response\" (FIR) design page\n",
    "    * Use the resulting coefficients in the numerator of your filter (polynomial coefficients) \n",
    "* Plot all of these results appropriately\n",
    "    * Plot the impulse response of the filter two ways on the same axes:  \n",
    "        * By plotting the numerator coefficients, and \n",
    "        * By convolving the filter with an impulse function\n",
    "    * Compare your filter with the one provided (\"LPF_1-of-10.numerator\")"
   ]
  },
  {
   "cell_type": "markdown",
   "metadata": {},
   "source": [
    "#1 Convolution\n",
    "\n",
    "The lengths of the filter and the signal define how long the convolved output will be. It has a length of (M + N - 1) samples, where M denotes the filter's length and N the signal's length. The convolved output's length is equal to the sum of the filter and signal lengths, less one. This is due to the fact that each filter sample overlaps with a signal sample during convolution, producing several output samples for every input sample.\n"
   ]
  },
  {
   "cell_type": "code",
   "execution_count": 12,
   "metadata": {},
   "outputs": [
    {
     "name": "stdout",
     "output_type": "stream",
     "text": [
      "Length of filter: 3\n",
      "Length of signal: 5\n",
      "Length of convolved output (Python approach): 7\n",
      "Length of convolved output (Spreadsheet approach): 7\n"
     ]
    },
    {
     "ename": "TypeError",
     "evalue": "stem() got an unexpected keyword argument 'use_line_collection'",
     "output_type": "error",
     "traceback": [
      "\u001b[1;31m---------------------------------------------------------------------------\u001b[0m",
      "\u001b[1;31mTypeError\u001b[0m                                 Traceback (most recent call last)",
      "Cell \u001b[1;32mIn[12], line 20\u001b[0m\n\u001b[0;32m     17\u001b[0m plt\u001b[38;5;241m.\u001b[39mfigure(figsize\u001b[38;5;241m=\u001b[39m(\u001b[38;5;241m10\u001b[39m, \u001b[38;5;241m6\u001b[39m))\n\u001b[0;32m     19\u001b[0m plt\u001b[38;5;241m.\u001b[39msubplot(\u001b[38;5;241m3\u001b[39m, \u001b[38;5;241m1\u001b[39m, \u001b[38;5;241m1\u001b[39m)\n\u001b[1;32m---> 20\u001b[0m \u001b[43mplt\u001b[49m\u001b[38;5;241;43m.\u001b[39;49m\u001b[43mstem\u001b[49m\u001b[43m(\u001b[49m\u001b[43mnp\u001b[49m\u001b[38;5;241;43m.\u001b[39;49m\u001b[43marange\u001b[49m\u001b[43m(\u001b[49m\u001b[38;5;28;43mlen\u001b[39;49m\u001b[43m(\u001b[49m\u001b[38;5;28;43mfilter\u001b[39;49m\u001b[43m)\u001b[49m\u001b[43m)\u001b[49m\u001b[43m,\u001b[49m\u001b[43m \u001b[49m\u001b[38;5;28;43mfilter\u001b[39;49m\u001b[43m,\u001b[49m\u001b[43m \u001b[49m\u001b[43muse_line_collection\u001b[49m\u001b[38;5;241;43m=\u001b[39;49m\u001b[38;5;28;43;01mTrue\u001b[39;49;00m\u001b[43m)\u001b[49m\n\u001b[0;32m     21\u001b[0m plt\u001b[38;5;241m.\u001b[39mtitle(\u001b[38;5;124m'\u001b[39m\u001b[38;5;124mFilter\u001b[39m\u001b[38;5;124m'\u001b[39m)\n\u001b[0;32m     22\u001b[0m plt\u001b[38;5;241m.\u001b[39mxlabel(\u001b[38;5;124m'\u001b[39m\u001b[38;5;124mSample\u001b[39m\u001b[38;5;124m'\u001b[39m)\n",
      "\u001b[1;31mTypeError\u001b[0m: stem() got an unexpected keyword argument 'use_line_collection'"
     ]
    },
    {
     "data": {
      "image/png": "[encoded data removed]",
      "text/plain": [
       "<Figure size 800x480 with 1 Axes>"
      ]
     },
     "metadata": {},
     "output_type": "display_data"
    }
   ],
   "source": [
    "import numpy as np\n",
    "import matplotlib.pyplot as plt\n",
    "from scipy.signal import convolve\n",
    "\n",
    "filter = np.array([1, 2, 1])\n",
    "signal = np.array([1, 1, 1, 1, 1])\n",
    "\n",
    "conv_result_python = convolve(signal, filter, mode='full')\n",
    "\n",
    "conv_result_spreadsheet = np.convolve(signal, filter, mode='full')\n",
    "\n",
    "print(\"Length of filter:\", len(filter))\n",
    "print(\"Length of signal:\", len(signal))\n",
    "print(\"Length of convolved output (Python approach):\", len(conv_result_python))\n",
    "print(\"Length of convolved output (Spreadsheet approach):\", len(conv_result_spreadsheet))\n",
    "\n",
    "plt.figure(figsize=(10, 6))\n",
    "\n",
    "plt.subplot(3, 1, 1)\n",
    "plt.stem(np.arange(len(filter)), filter, use_line_collection=True)\n",
    "plt.title('Filter')\n",
    "plt.xlabel('Sample')\n",
    "plt.ylabel('Amplitude')\n",
    "\n",
    "plt.subplot(3, 1, 2)\n",
    "plt.stem(np.arange(len(signal)), signal, use_line_collection=True)\n",
    "plt.title('Signal')\n",
    "plt.xlabel('Sample')\n",
    "plt.ylabel('Amplitude')\n",
    "\n",
    "plt.subplot(3, 1, 3)\n",
    "plt.stem(np.arange(len(conv_result_python)), conv_result_python, use_line_collection=True)\n",
    "plt.title('Convolved Output (Python approach)')\n",
    "plt.xlabel('Sample')\n",
    "plt.ylabel('Amplitude')\n",
    "\n",
    "plt.tight_layout()\n",
    "plt.show()\n"
   ]
  },
  {
   "cell_type": "markdown",
   "metadata": {},
   "source": [
    "#2 Spectrum\n",
    "\n",
    "We can see how the filter changes the signal's spectrum by looking at the frequency response graphic. Understanding how the filter impacts the various frequency components of the input signal may be gained from the frequency response. \n",
    "The kind of spectral response the filter exhibits may be identified from the frequency response graphic. For instance, a filter is considered lowpass if it attenuates high frequencies while permitting low frequencies to pass through.\n",
    "A filter is considered highpass if it attenuates low frequencies while permitting high frequencies to pass through.\n",
    "Additional varieties comprise bandpass and bandstop filters, contingent upon their characteristics inside the frequency domain."
   ]
  },
  {
   "cell_type": "code",
   "execution_count": 13,
   "metadata": {},
   "outputs": [
    {
     "ename": "NameError",
     "evalue": "name 'zeroes' is not defined",
     "output_type": "error",
     "traceback": [
      "\u001b[1;31m---------------------------------------------------------------------------\u001b[0m",
      "\u001b[1;31mNameError\u001b[0m                                 Traceback (most recent call last)",
      "Cell \u001b[1;32mIn[13], line 12\u001b[0m\n\u001b[0;32m      9\u001b[0m     plt\u001b[38;5;241m.\u001b[39mgrid(\u001b[38;5;28;01mTrue\u001b[39;00m)\n\u001b[0;32m     10\u001b[0m     plt\u001b[38;5;241m.\u001b[39mshow()\n\u001b[1;32m---> 12\u001b[0m plot_FrequencyResponse(\u001b[43mzeroes\u001b[49m, poles, \u001b[38;5;241m2000\u001b[39m)\n",
      "\u001b[1;31mNameError\u001b[0m: name 'zeroes' is not defined"
     ]
    }
   ],
   "source": [
    "def plot_FrequencyResponse(zeroes, poles, srate):\n",
    "    ww, hh = signal.freqz_zpk(zeroes, poles, 1, 512, False, srate)\n",
    "    \n",
    "    plt.figure(figsize=(8, 6))\n",
    "    plt.plot(ww, 20 * np.log10(abs(hh)), 'b')\n",
    "    plt.title('Frequency Response')\n",
    "    plt.xlabel('Frequency (Hz)')\n",
    "    plt.ylabel('Magnitude (dB)')\n",
    "    plt.grid(True)\n",
    "    plt.show()\n",
    "\n",
    "plot_FrequencyResponse(zeroes, poles, 2000)\n"
   ]
  },
  {
   "cell_type": "markdown",
   "metadata": {},
   "source": [
    "#3 Impulse Response\n",
    "\n",
    "Using the coefficients of the filter polynomial, we manually compute the filter's impulse response. Furthermore, we use the Python method that the signal module provides to retrieve the impulse response.\n",
    "Using a \"unit step\" sequence—basically, an extended impulse—we convolve the filter. This makes it easier for us to watch how the filter responds to an input that turns on abruptly.\n",
    "We depict the convolved output with the unit step sequence together with the impulse response generated by both approaches.\n"
   ]
  },
  {
   "cell_type": "code",
   "execution_count": 14,
   "metadata": {},
   "outputs": [
    {
     "ename": "AttributeError",
     "evalue": "'numpy.ndarray' object has no attribute 'impulse'",
     "output_type": "error",
     "traceback": [
      "\u001b[1;31m---------------------------------------------------------------------------\u001b[0m",
      "\u001b[1;31mAttributeError\u001b[0m                            Traceback (most recent call last)",
      "Cell \u001b[1;32mIn[14], line 3\u001b[0m\n\u001b[0;32m      1\u001b[0m impulse_response_hand \u001b[38;5;241m=\u001b[39m \u001b[38;5;28mfilter\u001b[39m\n\u001b[1;32m----> 3\u001b[0m impulse_response_python \u001b[38;5;241m=\u001b[39m \u001b[43msignal\u001b[49m\u001b[38;5;241;43m.\u001b[39;49m\u001b[43mimpulse\u001b[49m((numerator, denominator))\n\u001b[0;32m      5\u001b[0m unit_step \u001b[38;5;241m=\u001b[39m np\u001b[38;5;241m.\u001b[39mones(\u001b[38;5;241m100\u001b[39m)\n\u001b[0;32m      7\u001b[0m conv_result_unit_step \u001b[38;5;241m=\u001b[39m convolve(unit_step, \u001b[38;5;28mfilter\u001b[39m, mode\u001b[38;5;241m=\u001b[39m\u001b[38;5;124m'\u001b[39m\u001b[38;5;124mfull\u001b[39m\u001b[38;5;124m'\u001b[39m)\n",
      "\u001b[1;31mAttributeError\u001b[0m: 'numpy.ndarray' object has no attribute 'impulse'"
     ]
    }
   ],
   "source": [
    "impulse_response_hand = filter\n",
    "\n",
    "impulse_response_python = signal.impulse((numerator, denominator))\n",
    "\n",
    "unit_step = np.ones(100)\n",
    "\n",
    "conv_result_unit_step = convolve(unit_step, filter, mode='full')\n",
    "\n",
    "print(\"Length of impulse response (by-hand):\", len(impulse_response_hand))\n",
    "print(\"Length of impulse response (Python approach):\", len(impulse_response_python[1]))\n",
    "print(\"Length of convolved output with unit step sequence:\", len(conv_result_unit_step))\n",
    "\n",
    "plt.figure(figsize=(10, 6))\n",
    "\n",
    "plt.subplot(3, 1, 1)\n",
    "plt.stem(np.arange(len(impulse_response_hand)), impulse_response_hand, use_line_collection=True)\n",
    "plt.title('Impulse Response (By-hand)')\n",
    "plt.xlabel('Sample')\n",
    "plt.ylabel('Amplitude')\n",
    "\n",
    "plt.subplot(3, 1, 2)\n",
    "plt.stem(np.arange(len(impulse_response_python[1])), impulse_response_python[1], use_line_collection=True)\n",
    "plt.title('Impulse Response (Python approach)')\n",
    "plt.xlabel('Sample')\n",
    "plt.ylabel('Amplitude')\n",
    "\n",
    "plt.subplot(3, 1, 3)\n",
    "plt.stem(np.arange(len(conv_result_unit_step)), conv_result_unit_step, use_line_collection=True)\n",
    "plt.title('Convolution with Unit Step Sequence')\n",
    "plt.xlabel('Sample')\n",
    "plt.ylabel('Amplitude')\n",
    "\n",
    "plt.tight_layout()\n",
    "plt.show()\n"
   ]
  },
  {
   "cell_type": "markdown",
   "metadata": {},
   "source": [
    "#4 Filter"
   ]
  },
  {
   "cell_type": "code",
   "execution_count": 15,
   "metadata": {},
   "outputs": [
    {
     "ename": "TypeError",
     "evalue": "stem() got an unexpected keyword argument 'use_line_collection'",
     "output_type": "error",
     "traceback": [
      "\u001b[1;31m---------------------------------------------------------------------------\u001b[0m",
      "\u001b[1;31mTypeError\u001b[0m                                 Traceback (most recent call last)",
      "Cell \u001b[1;32mIn[15], line 6\u001b[0m\n\u001b[0;32m      3\u001b[0m plt\u001b[38;5;241m.\u001b[39mfigure(figsize\u001b[38;5;241m=\u001b[39m(\u001b[38;5;241m10\u001b[39m, \u001b[38;5;241m6\u001b[39m))\n\u001b[0;32m      5\u001b[0m plt\u001b[38;5;241m.\u001b[39msubplot(\u001b[38;5;241m2\u001b[39m, \u001b[38;5;241m1\u001b[39m, \u001b[38;5;241m1\u001b[39m)\n\u001b[1;32m----> 6\u001b[0m \u001b[43mplt\u001b[49m\u001b[38;5;241;43m.\u001b[39;49m\u001b[43mstem\u001b[49m\u001b[43m(\u001b[49m\u001b[43mnp\u001b[49m\u001b[38;5;241;43m.\u001b[39;49m\u001b[43marange\u001b[49m\u001b[43m(\u001b[49m\u001b[38;5;28;43mlen\u001b[39;49m\u001b[43m(\u001b[49m\u001b[43mdesigned_filter_coeffs\u001b[49m\u001b[43m)\u001b[49m\u001b[43m)\u001b[49m\u001b[43m,\u001b[49m\u001b[43m \u001b[49m\u001b[43mdesigned_filter_coeffs\u001b[49m\u001b[43m,\u001b[49m\u001b[43m \u001b[49m\u001b[43muse_line_collection\u001b[49m\u001b[38;5;241;43m=\u001b[39;49m\u001b[38;5;28;43;01mTrue\u001b[39;49;00m\u001b[43m)\u001b[49m\n\u001b[0;32m      7\u001b[0m plt\u001b[38;5;241m.\u001b[39mtitle(\u001b[38;5;124m'\u001b[39m\u001b[38;5;124mImpulse Response of Designed Filter (Numerator Coefficients)\u001b[39m\u001b[38;5;124m'\u001b[39m)\n\u001b[0;32m      8\u001b[0m plt\u001b[38;5;241m.\u001b[39mxlabel(\u001b[38;5;124m'\u001b[39m\u001b[38;5;124mSample\u001b[39m\u001b[38;5;124m'\u001b[39m)\n",
      "\u001b[1;31mTypeError\u001b[0m: stem() got an unexpected keyword argument 'use_line_collection'"
     ]
    },
    {
     "data": {
      "image/png": "[encoded data removed]",
      "text/plain": [
       "<Figure size 800x480 with 1 Axes>"
      ]
     },
     "metadata": {},
     "output_type": "display_data"
    }
   ],
   "source": [
    "designed_filter_coeffs = [0.001, 0.002, 0.004, 0.006, 0.008, 0.008, 0.006, 0.004, 0.002, 0.001]\n",
    "\n",
    "plt.figure(figsize=(10, 6))\n",
    "\n",
    "plt.subplot(2, 1, 1)\n",
    "plt.stem(np.arange(len(designed_filter_coeffs)), designed_filter_coeffs, use_line_collection=True)\n",
    "plt.title('Impulse Response of Designed Filter (Numerator Coefficients)')\n",
    "plt.xlabel('Sample')\n",
    "plt.ylabel('Amplitude')\n",
    "\n",
    "impulse_function = np.zeros(100)\n",
    "impulse_function[0] = 1\n",
    "\n",
    "impulse_response = np.convolve(impulse_function, designed_filter_coeffs, mode='full')\n",
    "\n",
    "plt.subplot(2, 1, 2)\n",
    "plt.stem(np.arange(len(impulse_response)), impulse_response, use_line_collection=True)\n",
    "plt.title('Impulse Response of Designed Filter (Convolution with Impulse Function)')\n",
    "plt.xlabel('Sample')\n",
    "plt.ylabel('Amplitude')\n",
    "\n",
    "plt.tight_layout()\n",
    "plt.show()\n"
   ]
  },
  {
   "cell_type": "code",
   "execution_count": null,
   "metadata": {},
   "outputs": [],
   "source": []
  }
 ],
 "metadata": {
  "kernelspec": {
   "display_name": "Python 3 (ipykernel)",
   "language": "python",
   "name": "python3"
  },
  "language_info": {
   "codemirror_mode": {
    "name": "ipython",
    "version": 3
   },
   "file_extension": ".py",
   "mimetype": "text/x-python",
   "name": "python",
   "nbconvert_exporter": "python",
   "pygments_lexer": "ipython3",
   "version": "3.11.5"
  }
 },
 "nbformat": 4,
 "nbformat_minor": 2
}

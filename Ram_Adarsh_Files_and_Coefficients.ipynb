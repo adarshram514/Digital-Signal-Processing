{
 "cells": [
  {
   "cell_type": "markdown",
   "metadata": {},
   "source": [
    "# 0. Read Files\n",
    "We need to be able to read/write files easily and plot some things that help us understand digital filters. \n",
    "\n",
    "Some of the most important files will be descriptions of filters in the form of coefficients and other parameters.\n",
    "\n",
    "This notebook gives some useful examples of reading/writing simple files as well as parsing, plotting and transforming the values contained in the files."
   ]
  },
  {
   "cell_type": "markdown",
   "metadata": {},
   "source": [
    "## 0.a Imports"
   ]
  },
  {
   "cell_type": "code",
   "execution_count": null,
   "metadata": {},
   "outputs": [],
   "source": [
    "import sys\n",
    "import scipy as sp\n",
    "import numpy as np\n",
    "import matplotlib as mpl\n",
    "from scipy.fftpack import fft, fftfreq\n",
    "from scipy import signal\n",
    "\n",
    "# Print lists nicely\n",
    "import glob\n",
    "\n",
    "import matplotlib.pyplot as plt\n",
    "#print(plt.style.available)\n",
    "plt.style.use('classic')"
   ]
  },
  {
   "cell_type": "markdown",
   "metadata": {},
   "source": [
    "## 0.b Check Versions, etc"
   ]
  },
  {
   "cell_type": "code",
   "execution_count": null,
   "metadata": {},
   "outputs": [],
   "source": [
    "print('Python: \\t{:2d}.{:1d}'\n",
    "      .format(sys.version_info[0], sys.version_info[1]))\n",
    "print('Matplot:\\t',mpl.__version__)\n",
    "print('Numpy:  \\t',np.__version__)\n",
    "print('SciPy:  \\t',sp.__version__)"
   ]
  },
  {
   "cell_type": "markdown",
   "metadata": {},
   "source": [
    "# 1. Simple text files \n",
    "Simple text files are an easy way to store sets of filter parameters and other data.  The Python package \"numpy\" has really nice input/output features for such things.\n",
    "\n",
    "* Read: https://numpy.org/doc/stable/reference/generated/numpy.loadtxt.html\n",
    "* Write: https://numpy.org/doc/stable/reference/generated/numpy.savetxt.html"
   ]
  },
  {
   "cell_type": "markdown",
   "metadata": {},
   "source": [
    "## 1.a Poles and zeroes\n",
    "Poles and zeroes are one way to describe a digital filter.  \n",
    "\n",
    "These are collections of complex values, and their relation to the \"unit circle\" and the \"z-plane\" is important. We will be talking about the unit circle and z-plane in some detail shortly.\n",
    "\n",
    "The sets of complex values (poles, zeroes) typically describe a \"transfer function\" for a filter. It's called a transfer function because the action of the filter changes the input signal in some way. As a result, the _output_ of the filter is ___different___ than its _input_.\n",
    "\n",
    "The transfer function, $F(z)$, is a function in the z-plane that is written in fraction form with numerator and denominator. It can be written in terms of multiplicative factors which are \"roots\" of the numerator and denominator. The $z$ value that corresponds to each root is a complex number $Z_{i}=(r+jc)$\n",
    "\n",
    "$$F(z) = \\frac{Z(z)}{P(z)} = \\frac{\\Pi_{i=1}^{n}(z-Z_{i})}{\\Pi_{i=1}^{m}(z-P_{i})} = \\frac{(z-Z_{1}) \\ldots (z-Z_{n})}{(z-P_{1}) \\ldots (z-P_{m})}$$\n",
    "\n",
    "* Zeroes ($Z$) are roots of the numerator of the fraction. They make the transfer function go to zero\n",
    "* Poles ($P$) are roots of the denominator of the fraction. They make the transfer function go to infinity\n",
    "* Note that the factors are typically written in terms of $\\frac{1}{z}=z^{-1}$ rather than $z$, but that makes the notation much harder to read\n",
    "\n",
    "The examples below simply read flat-text file(s) that contain the complex-valued poles and zeroes."
   ]
  },
  {
   "cell_type": "markdown",
   "metadata": {},
   "source": [
    "### 1.a.1 Reads a simple text file and store the values in a list\n",
    "* Zeroes are the complex-valued roots of the transfer function's __numerator__\n",
    "* Poles are the complex-valued roots of the transfer function's __denominator__\n",
    "* Note that they're provided in ___complex-conjugate pairs___ $(r+jc)$ and $(r-jc)$"
   ]
  },
  {
   "cell_type": "code",
   "execution_count": null,
   "metadata": {},
   "outputs": [],
   "source": [
    "zfile = 'simple.zeroes'\n",
    "zeroes = np.loadtxt(zfile, comments='#', delimiter=',', dtype=complex, unpack=False)\n",
    "\n",
    "pfile = 'simple.poles'\n",
    "poles = np.loadtxt(pfile, comments='#', delimiter=',', dtype=complex, unpack=False)"
   ]
  },
  {
   "cell_type": "code",
   "execution_count": null,
   "metadata": {},
   "outputs": [],
   "source": [
    "def print_polezero(pp, zz):\n",
    "\n",
    "    print('Zeroes:')\n",
    "    for x in zz: print('\\t{num.real:+0.04f} {num.imag:+0.04f}j'.format(num=x))\n",
    "    \n",
    "    print('Poles:') \n",
    "    for x in pp: print('\\t{num.real:+0.04f} {num.imag:+0.04f}j'.format(num=x))"
   ]
  },
  {
   "cell_type": "code",
   "execution_count": null,
   "metadata": {},
   "outputs": [],
   "source": [
    "print_polezero(poles, zeroes)"
   ]
  },
  {
   "cell_type": "markdown",
   "metadata": {},
   "source": [
    "### 1.a.2 Read a file and dump its guts so we can see what's in it"
   ]
  },
  {
   "cell_type": "code",
   "execution_count": null,
   "metadata": {},
   "outputs": [],
   "source": [
    "fname = 'simple.zeroes'\n",
    "f = open(fname, 'r')\n",
    "guts = f.read()\n",
    "print(guts)\n",
    "f.close()"
   ]
  },
  {
   "cell_type": "markdown",
   "metadata": {},
   "source": [
    "## 1.b Filter coefficients (numerator, denominator)\n",
    "Coefficients are another way to describe a digital filter. \n",
    "\n",
    "These are collections of (typically) real values, and their relation to the unit circle is not as direct as with poles and zeroes. However, coefficients can be converted into poles and zeroes, and vice versa.\n",
    "\n",
    "Recall, the transfer function is represented by a complex-valued fraction in the z-plane. In addition to being written as a set of factors (poles and zeroes), this fraction can be written in terms of ___polynomials___ in $z$. \n",
    "\n",
    "$$F(z) = \\frac{N(z)}{D(z)} \n",
    "= \\frac{\\sum_{i=0}^{n}a_{i}z^{-i}}{\\sum_{i=0}^{m}b_{i}z^{-i}} \n",
    "= \\frac{a_{0}z^{-0} a_{1}z^{-1}\\ldots + a_{n}z^{-n}}{b_{0}z^{-0} b_{1}z^{-1}\\ldots + b_{n}z^{-m}} $$\n",
    "\n",
    "In this form, the filter coefficients $\\{a_i\\}$ and $\\{b_i\\}$ are the scaling factors for each power of $z$ in the numerator and denominator polynomial, rather than the __roots__ of those polynomials (as with poles and zeroes).\n",
    "\n",
    "The examples below simply read flat-text file(s) that contain the sets of coefficients for the transfer function numerator and denominator."
   ]
  },
  {
   "cell_type": "markdown",
   "metadata": {},
   "source": [
    "### 1.b.1 Reads a simple text file and store the values in a list\n",
    "* Numerator files contain the real-valued coefficients of the transfer function's __numerator__ \n",
    "* Denominator files contain the real-valued coefficients of the transfer function's __denominator__ \n",
    "* Note that they're __not__ provided in complex-conjugate pairs, but the numerator coefficients often have ___symmetric values___ around a midpoint\n",
    "* Also note that in this case, the denominator has an implicit pole at the origin $(0+j0)$"
   ]
  },
  {
   "cell_type": "code",
   "execution_count": null,
   "metadata": {},
   "outputs": [],
   "source": [
    "nfile = 'simple.numerator'\n",
    "numerator = np.loadtxt(nfile, comments='#', delimiter=',', dtype=float, unpack=False)\n",
    "\n",
    "dfile = 'simple.denominator'\n",
    "denominator = np.loadtxt(dfile, comments='#', delimiter=',', dtype=float, unpack=False) "
   ]
  },
  {
   "cell_type": "code",
   "execution_count": null,
   "metadata": {},
   "outputs": [],
   "source": [
    "def print_numden(nn, dd):\n",
    "\n",
    "    print('Numerator:')\n",
    "    for x in nn: print('\\t{num.real:+0.04f}'.format(num=x))\n",
    "    \n",
    "    print('Denominator:') \n",
    "    for x in dd: print('\\t{num.real:+0.04f}'.format(num=x))"
   ]
  },
  {
   "cell_type": "code",
   "execution_count": null,
   "metadata": {},
   "outputs": [],
   "source": [
    "print_numden(numerator, denominator)"
   ]
  },
  {
   "cell_type": "markdown",
   "metadata": {},
   "source": [
    "### 1.b.2 Read a file and dump its guts so we can see what's in it"
   ]
  },
  {
   "cell_type": "code",
   "execution_count": null,
   "metadata": {},
   "outputs": [],
   "source": [
    "fname = 'simple.numerator'\n",
    "f = open(fname, 'r')\n",
    "guts = f.read()\n",
    "print(guts)\n",
    "f.close()"
   ]
  },
  {
   "cell_type": "markdown",
   "metadata": {},
   "source": [
    "# 2.0 Define functions for useful plots\n",
    "To visualize the transfer function of a filter, we can use several techniques.\n",
    "* Impulse response\n",
    "* Poles and zeroes\n",
    "* Frequency response (DTFT)"
   ]
  },
  {
   "cell_type": "markdown",
   "metadata": {},
   "source": [
    "## 2.a Plot of impulse response\n",
    "This is a simplification that only works when the denominator of the transfer function is a scalar (e.g. no poles)"
   ]
  },
  {
   "cell_type": "code",
   "execution_count": null,
   "metadata": {},
   "outputs": [],
   "source": [
    "def plot_ImpulseResponse(numerator):\n",
    "    \n",
    "    fig, ax = plt.subplots(nrows=1, ncols=1)\n",
    "\n",
    "    ax.set_title('Impulse Response (numerator)', fontsize=10)\n",
    "    ax.set_axisbelow(True)\n",
    "    ax.minorticks_on()\n",
    "\n",
    "    ax.grid(which='major', linestyle='-',linewidth='0.5', color='red')\n",
    "    ax.grid(which='minor', linestyle=':',linewidth='0.5', color='gray')\n",
    "    ax.tick_params(which='both', top='off', bottom='off', left='off', right='off')\n",
    "        \n",
    "    mm = 1.1 * max(numerator)\n",
    "    mn = min(1.1 * min(numerator), -0.1)\n",
    "    ax.set_ylim(mn, mm)\n",
    "    ax.set_xlim(-1,len(numerator))\n",
    "\n",
    "    ax.set_xlabel('impulse response (numerator, samples)')\n",
    "    ax.set_ylabel('amplitude')\n",
    "    ax.axhline(linewidth=2, color='black')\n",
    "    ax.axvline(linewidth=2, color='black')\n",
    "\n",
    "    time = np.arange(0,len(numerator))\n",
    "    marker, stem, base = ax.stem(time, numerator)\n",
    "    stem.set_linewidth(2)\n",
    "\n",
    "    plt.show(block=False)\n",
    "    \n",
    "    return"
   ]
  },
  {
   "cell_type": "markdown",
   "metadata": {},
   "source": [
    "## 2.b Plot of poles and zeroes"
   ]
  },
  {
   "cell_type": "code",
   "execution_count": null,
   "metadata": {},
   "outputs": [],
   "source": [
    "def plot_PoleZero(zeroes, poles):\n",
    "    \n",
    "    fig, ax = plt.subplots(nrows=1, ncols=1)\n",
    "\n",
    "    ax.set_title('Unit Circle (z-plane)', fontsize=10)\n",
    "    ax.minorticks_on()\n",
    "\n",
    "    ax.grid(which='major', linestyle='-',linewidth='0.5', color='red')\n",
    "    ax.grid(which='minor', linestyle=':',linewidth='0.5', color='gray')\n",
    "    ax.tick_params(which='both',top='off', bottom='off', left='off', right='off')\n",
    "\n",
    "    theta = np.linspace(-np.pi,np.pi,201)\n",
    "    ax.plot(np.cos(theta), np.sin(theta), color='gray')\n",
    "\n",
    "    ax.scatter(np.real(zeroes), np.imag(zeroes),facecolors='none', edgecolors='blue',marker='o')\n",
    "    ax.scatter(np.real(poles), np.imag(poles), facecolors='red', marker='x')\n",
    "\n",
    "    ax.axhline(linewidth=2, color='black')\n",
    "    ax.axvline(linewidth=2, color='black')\n",
    "\n",
    "    ax.set_ylabel('Im{z}')\n",
    "    ax.set_xlabel('Re{z}')\n",
    "    ax.set_aspect('equal')\n",
    "\n",
    "    plt.show(block=False)\n",
    "\n",
    "    return"
   ]
  },
  {
   "cell_type": "markdown",
   "metadata": {},
   "source": [
    "## 2.c Plot of frequency response (DTFT)"
   ]
  },
  {
   "cell_type": "code",
   "execution_count": null,
   "metadata": {},
   "outputs": [],
   "source": [
    "def plot_FreqResponse(zeroes, poles, srate):\n",
    "\n",
    "    # The Python SciPy library function \"freq_zpk\" evaluates the set of (pole,zero) values via the DTFT\n",
    "    ww, hh = signal.freqz_zpk(zeroes, poles, 1, 512, False, srate)\n",
    "    fig, ax = plt.subplots(nrows=1, ncols=1)\n",
    "\n",
    "    ax.set_title('Frequency Response (DTFT)', fontsize=10)\n",
    "    ax.minorticks_on()\n",
    "    ax.grid(which='major', linestyle='-', linewidth='0.5', color='red')\n",
    "    ax.grid(which='minor', linestyle=':',linewidth='0.5', color='gray')\n",
    "    ax.tick_params(which='both', top='off', bottom='off', left='off', right='off')\n",
    "    \n",
    "    ax.plot(ww,20*np.log10(abs(hh)),'b')\n",
    "    \n",
    "    ax.set_ylabel('Amplitude (dB)', color='b')\n",
    "    ax.set_xlabel('Frequency (Hz)')\n",
    "    \n",
    "    ax.axhline(linewidth=2, color='black')\n",
    "    ax.axvline(linewidth=2, color='black')\n",
    "    \n",
    "    ax2 = ax.twinx()\n",
    "    angles = np.unwrap(np.angle(hh))\n",
    "    ax2.plot(ww,angles,'g')\n",
    "    ax2.set_ylabel('Angle (rad)', color='g')\n",
    "\n",
    "    plt.axis('tight')\n",
    "    plt.show(block=False)\n",
    "\n",
    "    return"
   ]
  },
  {
   "cell_type": "markdown",
   "metadata": {},
   "source": [
    "# 3.0 Plot the stuff we read earlier"
   ]
  },
  {
   "cell_type": "markdown",
   "metadata": {},
   "source": [
    "## 3.a  Coefficients: Numerator and Denominator\n",
    "First, convert the numerator/denominator coefficients $\\frac{N(z)}{D(z)}=\\frac{\\sum a_{i}z^{-i}}{\\sum b_{i}z^{-i}}$ to pole-zero format $\\frac{Z(z)}{P(z)}=\\frac{\\Pi(z-Z_{i})}{\\Pi(z-P_{i})}$\n",
    "\n",
    "This uses the Python SciPy library function:  ___tf2zpk(N,D)___\n",
    "\n",
    "Then use the defined plotting routines to give consistent output."
   ]
  },
  {
   "cell_type": "code",
   "execution_count": null,
   "metadata": {},
   "outputs": [],
   "source": [
    "nd_zeroes, nd_poles, nd_gain = signal.tf2zpk(numerator, denominator)\n",
    "\n",
    "print_polezero(nd_poles,nd_zeroes)\n",
    "print_numden(numerator,denominator)\n",
    "\n",
    "plot_ImpulseResponse(numerator)\n",
    "plot_PoleZero(nd_zeroes, nd_poles)\n",
    "plot_FreqResponse(nd_zeroes, nd_poles, 2000)"
   ]
  },
  {
   "cell_type": "markdown",
   "metadata": {},
   "source": [
    "## 3.b Poles and Zeroes\n",
    "First, convert the pole/zero values $\\frac{Z(z)}{P(z)}=\\frac{\\Pi(z-Z_{i})}{\\Pi(z-P_{i})}$ to numerator/denominator format $\\frac{N(z)}{D(z)}=\\frac{\\sum a_{i}z^{-i}}{\\sum b_{i}z^{-i}}$\n",
    "\n",
    "This uses the Python SciPy library function:  ___zpk2tf(Z,P)___\n",
    "\n",
    "Then use the defined plotting routines to give consistent output."
   ]
  },
  {
   "cell_type": "code",
   "execution_count": null,
   "metadata": {},
   "outputs": [],
   "source": [
    "pz_numerator, pz_denominator = signal.zpk2tf(zeroes, poles, 1)\n",
    "\n",
    "print_numden(pz_numerator,pz_denominator)\n",
    "\n",
    "# Skipping impulse response here because the presence of a denominator makes the process more complicated ...\n",
    "#plot_ImpulseResponse(pz_numerator)\n",
    "plot_PoleZero(zeroes, poles)\n",
    "plot_FreqResponse(zeroes, poles, 2000)"
   ]
  },
  {
   "cell_type": "markdown",
   "metadata": {},
   "source": [
    "# Questions\n",
    "\n",
    "### 1. Different Filters\n",
    "The two sets of files that I provided ... _(simple.poles, simple.zeroes)_ and _(simple.numerator, simple.denominator)_ ... describe two filters with ___different___ transfer functions. You can see this from the previous graphs, etc. where the plots for the set of _(pole,zero)_ files are very different from the plots for the set of _(numerator,denominator)_ files.\n",
    "\n",
    "* How are the two filters different?\n",
    "* What is your interpretation of the spectral plots?\n",
    "* What's the relationship between the spectral plots in each case and the \"unit circle\"?\n",
    "* Do the filters only change the frequency content, or do they do something else as well?\n",
    "\n",
    "### 2. Roll Your Own\n",
    "You should be able to create simple files of your own following the structure of the _(simple.poles, simple.zeroes)_ and _(simple.numerator, simple.denominator)_ files. Can you create sets of simple pole/zero and numerator/denominator values that describe a digital filter with ___the same___ transfer function?  Don't modify the files I provided.  Create new ones with your own values.\n",
    "\n",
    "* Create one set of files containing complex pole/zero pairs\n",
    "* Create another set of files containing numerator/denominator coefficients\n",
    "* Plot their transfer functions, etc. ___using side-by-side subplots___ to show that they perform equivalently\n",
    "\n",
    "### 3. Impulse Response\n",
    "Notice the caveats in the \"plot_ImpulseResponse\" function, and the fact that we didn't use this in the case of one of the provided filters (the one with an actual _denominator polynomial_ .. the one with _poles_).\n",
    "\n",
    "* Describe what's going on in the function \"plot_ImpulseResponse\".  What is actually being plotted?\n",
    "* Why wouldn't this approach work in the case where the transfer function has poles in the denominator?"
   ]
  },
  {
   "cell_type": "markdown",
   "metadata": {},
   "source": [
    "# 1\n",
    "\n",
    "The sets of files given show two separate digital filters that do different kinds of transfer work. One set shows filters based on their z-plane poles and zeros, while the other set uses the numerator and denominator polynomials' coefficients in the z-domain to describe how the filters behave.\n",
    "\n",
    "We can see where the poles and zeroes are in the z-plane by looking at the spectral plots that are made from poles and zeroes. These positions have a direct effect on the frequency response of the filter. The numerator and denominator factors, on the other hand, show how the filter changes the frequency parts of the input signal in spectral charts.\n",
    "\n",
    "\n",
    "For both types of filters, the connection between the spectral plots and the unit circle in the z-plane is important. For filters with poles and zeroes, the stability and frequency response are based on where the unit circle is in relation to the poles and zeroes. For filters with numerator and denominator factors, on the other hand, frequencies at the unit circle are equal to the Nyquist frequency and change the frequency response of the filter.\n",
    "\n",
    "The main job of both types of filters is to change the frequency content of the input stream. But, based on how they are built and what they're made of, they may also add phase shifts and intensity changes. These filters change the input sound based on their transfer functions by cutting down on some frequencies while letting others through."
   ]
  },
  {
   "cell_type": "markdown",
   "metadata": {},
   "source": [
    "# 2"
   ]
  },
  {
   "cell_type": "code",
   "execution_count": null,
   "metadata": {},
   "outputs": [],
   "source": [
    "import numpy as np\n",
    "\n",
    "zeroes_complex = [0.2*np.exp(1j*np.pi/4), 0.2*np.exp(-1j*np.pi/4)]\n",
    "poles_complex = [0.9*np.exp(1j*np.pi/6), 0.9*np.exp(-1j*np.pi/6)]\n",
    "\n",
    "np.savetxt('complex.zeroes', zeroes_complex, delimiter=',', fmt='%0.4f%+0.4fj')\n",
    "np.savetxt('complex.poles', poles_complex, delimiter=',', fmt='%0.4f%+0.4fj')\n",
    "\n",
    "numerator_coeffs = [1]\n",
    "denominator_coeffs = [1, -1.4142, 1]\n",
    "\n",
    "np.savetxt('complex.numerator', numerator_coeffs, delimiter=',', fmt='%0.4f')\n",
    "np.savetxt('complex.denominator', denominator_coeffs, delimiter=',', fmt='%0.4f')\n",
    "\n",
    "import matplotlib.pyplot as plt\n",
    "from scipy import signal\n",
    "\n",
    "zeroes_complex_loaded = np.loadtxt('complex.zeroes', delimiter=',', dtype=complex)\n",
    "poles_complex_loaded = np.loadtxt('complex.poles', delimiter=',', dtype=complex)\n",
    "numerator_coeffs_loaded = np.loadtxt('complex.numerator', delimiter=',')\n",
    "denominator_coeffs_loaded = np.loadtxt('complex.denominator', delimiter=',')\n",
    "\n",
    "w, h_complex = signal.freqz_zpk(zeroes_complex_loaded, poles_complex_loaded, 1)\n",
    "w, h_coeffs = signal.freqz(numerator_coeffs_loaded, denominator_coeffs_loaded)\n",
    "\n",
    "plt.figure(figsize=(12, 6))\n",
    "\n",
    "plt.subplot(1, 2, 1)\n",
    "plt.plot(w, 20 * np.log10(abs(h_complex)), 'b', label='Complex Pole/Zero')\n",
    "plt.plot(w, 20 * np.log10(abs(h_coeffs)), 'r--', label='Numerator/Denominator')\n",
    "plt.title('Frequency Response')\n",
    "plt.xlabel('Frequency (rad/sample)')\n",
    "plt.ylabel('Amplitude (dB)')\n",
    "plt.legend()\n",
    "\n",
    "plt.subplot(1, 2, 2)\n",
    "plt.plot(w, np.angle(h_complex), 'b', label='Complex Pole/Zero')\n",
    "plt.plot(w, np.angle(h_coeffs), 'r--', label='Numerator/Denominator')\n",
    "plt.title('Phase Response')\n",
    "plt.xlabel('Frequency (rad/sample)')\n",
    "plt.ylabel('Phase (radians)')\n",
    "plt.legend()\n",
    "\n",
    "plt.tight_layout()\n",
    "plt.show()\n"
   ]
  },
  {
   "cell_type": "markdown",
   "metadata": {},
   "source": [
    "# 3\n",
    "A method called \"plot_ImpulseResponse\" shows the impulse response of a digital filter over time in the form of an impulse input signal. The function shows how the filter works in the time domain by showing the numerator coefficients, which are the impulse response, against time indices. But this method depends on the system being stable and not having any poles in the base of the transfer function.\n",
    "\n",
    "If the transfer function has poles in the minimum, the function's method might not work because the system might become unstable. Filters with poles in the denominator can have impulse responses that are either infinite or not defined at all. This makes plotting the impulse response useless and doesn't tell you much about how the filter works. Because of this, you should be careful when using the \"plot_ImpulseResponse\" method, especially with filters that have complicated transfer functions."
   ]
  }
 ],
 "metadata": {
  "kernelspec": {
   "display_name": "Python 3 (ipykernel)",
   "language": "python",
   "name": "python3"
  },
  "language_info": {
   "codemirror_mode": {
    "name": "ipython",
    "version": 3
   },
   "file_extension": ".py",
   "mimetype": "text/x-python",
   "name": "python",
   "nbconvert_exporter": "python",
   "pygments_lexer": "ipython3",
   "version": "3.11.5"
  }
 },
 "nbformat": 4,
 "nbformat_minor": 2
}
